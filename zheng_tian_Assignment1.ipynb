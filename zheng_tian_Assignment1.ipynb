{
 "cells": [
  {
   "cell_type": "markdown",
   "metadata": {},
   "source": [
    "# __CS 6220 Assignment 1__"
   ]
  },
  {
   "cell_type": "code",
   "execution_count": 1,
   "metadata": {},
   "outputs": [],
   "source": [
    "import pandas as pd"
   ]
  },
  {
   "cell_type": "code",
   "execution_count": 2,
   "metadata": {},
   "outputs": [],
   "source": [
    "unames = ['user_id', 'gender', 'age', 'occupation', 'zip']\n",
    "users = pd.read_table('ml-1m/users.dat', sep='::', header=None, names=unames, engine='python')\n",
    "\n",
    "rnames = ['user_id', 'movie_id', 'rating', 'timestamp']\n",
    "ratings = pd.read_table('ml-1m/ratings.dat', sep='::', header=None, names=rnames, engine='python')\n",
    "\n",
    "mnames = ['movie_id', 'title', 'genres']\n",
    "movies = pd.read_table('ml-1m/movies.dat', sep='::', header=None, names=mnames, engine='python')"
   ]
  },
  {
   "cell_type": "code",
   "execution_count": 3,
   "metadata": {},
   "outputs": [],
   "source": [
    "data = pd.merge(pd.merge(ratings, users), movies)"
   ]
  },
  {
   "cell_type": "markdown",
   "metadata": {},
   "source": [
    "__Problem 1__"
   ]
  },
  {
   "cell_type": "markdown",
   "metadata": {},
   "source": [
    "[10 pts] An aggregate of the movie ratings for each particular genre, e.g., Action, Adventure, Drama, Science Fiction, ..."
   ]
  },
  {
   "cell_type": "code",
   "execution_count": 4,
   "metadata": {},
   "outputs": [
    {
     "data": {
      "text/html": [
       "<div>\n",
       "<style scoped>\n",
       "    .dataframe tbody tr th:only-of-type {\n",
       "        vertical-align: middle;\n",
       "    }\n",
       "\n",
       "    .dataframe tbody tr th {\n",
       "        vertical-align: top;\n",
       "    }\n",
       "\n",
       "    .dataframe thead th {\n",
       "        text-align: right;\n",
       "    }\n",
       "</style>\n",
       "<table border=\"1\" class=\"dataframe\">\n",
       "  <thead>\n",
       "    <tr style=\"text-align: right;\">\n",
       "      <th></th>\n",
       "      <th>rating</th>\n",
       "    </tr>\n",
       "    <tr>\n",
       "      <th>genres</th>\n",
       "      <th></th>\n",
       "    </tr>\n",
       "  </thead>\n",
       "  <tbody>\n",
       "    <tr>\n",
       "      <th>Action</th>\n",
       "      <td>3.354886</td>\n",
       "    </tr>\n",
       "    <tr>\n",
       "      <th>Action|Adventure</th>\n",
       "      <td>3.676814</td>\n",
       "    </tr>\n",
       "    <tr>\n",
       "      <th>Action|Adventure|Animation</th>\n",
       "      <td>4.147826</td>\n",
       "    </tr>\n",
       "    <tr>\n",
       "      <th>Action|Adventure|Animation|Children's|Fantasy</th>\n",
       "      <td>2.703704</td>\n",
       "    </tr>\n",
       "    <tr>\n",
       "      <th>Action|Adventure|Animation|Horror|Sci-Fi</th>\n",
       "      <td>3.546926</td>\n",
       "    </tr>\n",
       "    <tr>\n",
       "      <th>...</th>\n",
       "      <td>...</td>\n",
       "    </tr>\n",
       "    <tr>\n",
       "      <th>Sci-Fi|Thriller|War</th>\n",
       "      <td>3.439286</td>\n",
       "    </tr>\n",
       "    <tr>\n",
       "      <th>Sci-Fi|War</th>\n",
       "      <td>4.449890</td>\n",
       "    </tr>\n",
       "    <tr>\n",
       "      <th>Thriller</th>\n",
       "      <td>3.555879</td>\n",
       "    </tr>\n",
       "    <tr>\n",
       "      <th>War</th>\n",
       "      <td>3.889001</td>\n",
       "    </tr>\n",
       "    <tr>\n",
       "      <th>Western</th>\n",
       "      <td>3.853226</td>\n",
       "    </tr>\n",
       "  </tbody>\n",
       "</table>\n",
       "<p>301 rows × 1 columns</p>\n",
       "</div>"
      ],
      "text/plain": [
       "                                                 rating\n",
       "genres                                                 \n",
       "Action                                         3.354886\n",
       "Action|Adventure                               3.676814\n",
       "Action|Adventure|Animation                     4.147826\n",
       "Action|Adventure|Animation|Children's|Fantasy  2.703704\n",
       "Action|Adventure|Animation|Horror|Sci-Fi       3.546926\n",
       "...                                                 ...\n",
       "Sci-Fi|Thriller|War                            3.439286\n",
       "Sci-Fi|War                                     4.449890\n",
       "Thriller                                       3.555879\n",
       "War                                            3.889001\n",
       "Western                                        3.853226\n",
       "\n",
       "[301 rows x 1 columns]"
      ]
     },
     "execution_count": 4,
     "metadata": {},
     "output_type": "execute_result"
    }
   ],
   "source": [
    "aggregate_ratings = data.pivot_table('rating', index='genres', aggfunc='mean')\n",
    "aggregate_ratings"
   ]
  },
  {
   "cell_type": "markdown",
   "metadata": {},
   "source": [
    "__Problem 2__"
   ]
  },
  {
   "cell_type": "markdown",
   "metadata": {},
   "source": [
    "[10 pts] The top 5 highest ranked genre by women."
   ]
  },
  {
   "cell_type": "code",
   "execution_count": 5,
   "metadata": {},
   "outputs": [
    {
     "data": {
      "text/plain": [
       "genres\n",
       "Animation|Comedy|Thriller             4.550802\n",
       "Animation                             4.533333\n",
       "Film-Noir|Romance|Thriller            4.448718\n",
       "Sci-Fi|War                            4.376623\n",
       "Adventure|Children's|Drama|Musical    4.355030\n",
       "Name: F, dtype: float64"
      ]
     },
     "execution_count": 5,
     "metadata": {},
     "output_type": "execute_result"
    }
   ],
   "source": [
    "ratings_by_gender = data.pivot_table('rating', index='genres', columns='gender', aggfunc='mean')\n",
    "top_female_ratings = ratings_by_gender.sort_values(by='F', ascending=False)\n",
    "top_female_ratings['F'][:5]"
   ]
  },
  {
   "cell_type": "markdown",
   "metadata": {},
   "source": [
    "__Problem 3__"
   ]
  },
  {
   "cell_type": "markdown",
   "metadata": {},
   "source": [
    "[10 pts] The top 5 highest ranked genre by men."
   ]
  },
  {
   "cell_type": "code",
   "execution_count": 6,
   "metadata": {},
   "outputs": [
    {
     "data": {
      "text/plain": [
       "genres\n",
       "Sci-Fi|War                   4.464789\n",
       "Animation|Comedy|Thriller    4.445110\n",
       "Film-Noir|Mystery            4.381536\n",
       "Adventure|War                4.376633\n",
       "Animation                    4.353107\n",
       "Name: M, dtype: float64"
      ]
     },
     "execution_count": 6,
     "metadata": {},
     "output_type": "execute_result"
    }
   ],
   "source": [
    "ratings_by_gender = data.pivot_table('rating', index='genres', columns='gender', aggfunc='mean')\n",
    "top_male_ratings = ratings_by_gender.sort_values(by='M', ascending=False)\n",
    "top_male_ratings['M'][:5]"
   ]
  },
  {
   "cell_type": "markdown",
   "metadata": {},
   "source": [
    "__Problem 4__"
   ]
  },
  {
   "cell_type": "markdown",
   "metadata": {},
   "source": [
    "[20 pts] Pick a movie of your choice and provide a breakdown of the movie's ratings by 3 age ranges (a) under 18 (b) 19 to 45 (c) Above 45."
   ]
  },
  {
   "cell_type": "code",
   "execution_count": 7,
   "metadata": {},
   "outputs": [
    {
     "data": {
      "text/plain": [
       "title\n",
       "American Beauty (1999)    3428\n",
       "dtype: int64"
      ]
     },
     "execution_count": 7,
     "metadata": {},
     "output_type": "execute_result"
    }
   ],
   "source": [
    "# Pick the most rated movie\n",
    "most_rated = data.groupby('title').size().sort_values(ascending=False)[:1]\n",
    "most_rated"
   ]
  },
  {
   "cell_type": "code",
   "execution_count": 8,
   "metadata": {},
   "outputs": [],
   "source": [
    "import numpy as np"
   ]
  },
  {
   "cell_type": "code",
   "execution_count": 9,
   "metadata": {},
   "outputs": [
    {
     "data": {
      "text/html": [
       "<div>\n",
       "<style scoped>\n",
       "    .dataframe tbody tr th:only-of-type {\n",
       "        vertical-align: middle;\n",
       "    }\n",
       "\n",
       "    .dataframe tbody tr th {\n",
       "        vertical-align: top;\n",
       "    }\n",
       "\n",
       "    .dataframe thead tr th {\n",
       "        text-align: left;\n",
       "    }\n",
       "\n",
       "    .dataframe thead tr:last-of-type th {\n",
       "        text-align: right;\n",
       "    }\n",
       "</style>\n",
       "<table border=\"1\" class=\"dataframe\">\n",
       "  <thead>\n",
       "    <tr>\n",
       "      <th></th>\n",
       "      <th colspan=\"2\" halign=\"left\">rating</th>\n",
       "    </tr>\n",
       "    <tr>\n",
       "      <th></th>\n",
       "      <th>size</th>\n",
       "      <th>mean</th>\n",
       "    </tr>\n",
       "    <tr>\n",
       "      <th>age_group</th>\n",
       "      <th></th>\n",
       "      <th></th>\n",
       "    </tr>\n",
       "  </thead>\n",
       "  <tbody>\n",
       "    <tr>\n",
       "      <th>0-18</th>\n",
       "      <td>92</td>\n",
       "      <td>4.434783</td>\n",
       "    </tr>\n",
       "    <tr>\n",
       "      <th>19-45</th>\n",
       "      <td>2646</td>\n",
       "      <td>4.359788</td>\n",
       "    </tr>\n",
       "    <tr>\n",
       "      <th>46+</th>\n",
       "      <td>690</td>\n",
       "      <td>4.139130</td>\n",
       "    </tr>\n",
       "  </tbody>\n",
       "</table>\n",
       "</div>"
      ],
      "text/plain": [
       "          rating          \n",
       "            size      mean\n",
       "age_group                 \n",
       "0-18          92  4.434783\n",
       "19-45       2646  4.359788\n",
       "46+          690  4.139130"
      ]
     },
     "execution_count": 9,
     "metadata": {},
     "output_type": "execute_result"
    }
   ],
   "source": [
    "picked_movie = data[data.title=='American Beauty (1999)'].copy()\n",
    "labels = ['0-18', '19-45', '46+']\n",
    "picked_movie['age_group'] = pd.cut(picked_movie.age, bins=[0, 18, 45, 120], right=False, labels=labels)\n",
    "picked_movie.groupby('age_group').agg({'rating': [np.size, np.mean]})"
   ]
  },
  {
   "cell_type": "markdown",
   "metadata": {},
   "source": [
    "__Problem 5__"
   ]
  },
  {
   "cell_type": "markdown",
   "metadata": {},
   "source": [
    "[30 pts] A function that given a user_id and movie_id , returns a list of user_ids for other users that rated the movie identified by the provided movie_id with the same score."
   ]
  },
  {
   "cell_type": "code",
   "execution_count": 10,
   "metadata": {},
   "outputs": [],
   "source": [
    "def user_ids_with_same_score(user_id, movie_id):\n",
    "    # Get the selected data based on input parameters\n",
    "    selected_data = data[(data['user_id'] == user_id) & (data['movie_id'] == movie_id)]\n",
    "    if len(selected_data) is 0:\n",
    "        return 'No data is found given the user_id and movie_id.'\n",
    "    # Get the targeted rating\n",
    "    rating = selected_data.rating.values[0]\n",
    "    # Search for matching data with different user id, with the same movie_id and with the same rating\n",
    "    matched_data = data[(data['user_id'] != user_id) & (data['movie_id'] == movie_id) & (data['rating'] == rating)]\n",
    "    return matched_data"
   ]
  },
  {
   "cell_type": "code",
   "execution_count": 11,
   "metadata": {},
   "outputs": [
    {
     "data": {
      "text/html": [
       "<div>\n",
       "<style scoped>\n",
       "    .dataframe tbody tr th:only-of-type {\n",
       "        vertical-align: middle;\n",
       "    }\n",
       "\n",
       "    .dataframe tbody tr th {\n",
       "        vertical-align: top;\n",
       "    }\n",
       "\n",
       "    .dataframe thead th {\n",
       "        text-align: right;\n",
       "    }\n",
       "</style>\n",
       "<table border=\"1\" class=\"dataframe\">\n",
       "  <thead>\n",
       "    <tr style=\"text-align: right;\">\n",
       "      <th></th>\n",
       "      <th>user_id</th>\n",
       "      <th>movie_id</th>\n",
       "      <th>rating</th>\n",
       "      <th>timestamp</th>\n",
       "      <th>gender</th>\n",
       "      <th>age</th>\n",
       "      <th>occupation</th>\n",
       "      <th>zip</th>\n",
       "      <th>title</th>\n",
       "      <th>genres</th>\n",
       "    </tr>\n",
       "  </thead>\n",
       "  <tbody>\n",
       "    <tr>\n",
       "      <th>41629</th>\n",
       "      <td>9</td>\n",
       "      <td>1</td>\n",
       "      <td>5</td>\n",
       "      <td>978225952</td>\n",
       "      <td>M</td>\n",
       "      <td>25</td>\n",
       "      <td>17</td>\n",
       "      <td>61614</td>\n",
       "      <td>Toy Story (1995)</td>\n",
       "      <td>Animation|Children's|Comedy</td>\n",
       "    </tr>\n",
       "    <tr>\n",
       "      <th>41630</th>\n",
       "      <td>10</td>\n",
       "      <td>1</td>\n",
       "      <td>5</td>\n",
       "      <td>978226474</td>\n",
       "      <td>F</td>\n",
       "      <td>35</td>\n",
       "      <td>1</td>\n",
       "      <td>95370</td>\n",
       "      <td>Toy Story (1995)</td>\n",
       "      <td>Animation|Children's|Comedy</td>\n",
       "    </tr>\n",
       "    <tr>\n",
       "      <th>41632</th>\n",
       "      <td>19</td>\n",
       "      <td>1</td>\n",
       "      <td>5</td>\n",
       "      <td>978555994</td>\n",
       "      <td>M</td>\n",
       "      <td>1</td>\n",
       "      <td>10</td>\n",
       "      <td>48073</td>\n",
       "      <td>Toy Story (1995)</td>\n",
       "      <td>Animation|Children's|Comedy</td>\n",
       "    </tr>\n",
       "    <tr>\n",
       "      <th>41637</th>\n",
       "      <td>34</td>\n",
       "      <td>1</td>\n",
       "      <td>5</td>\n",
       "      <td>978102970</td>\n",
       "      <td>F</td>\n",
       "      <td>18</td>\n",
       "      <td>0</td>\n",
       "      <td>02135</td>\n",
       "      <td>Toy Story (1995)</td>\n",
       "      <td>Animation|Children's|Comedy</td>\n",
       "    </tr>\n",
       "    <tr>\n",
       "      <th>41638</th>\n",
       "      <td>36</td>\n",
       "      <td>1</td>\n",
       "      <td>5</td>\n",
       "      <td>978061285</td>\n",
       "      <td>M</td>\n",
       "      <td>25</td>\n",
       "      <td>3</td>\n",
       "      <td>94123</td>\n",
       "      <td>Toy Story (1995)</td>\n",
       "      <td>Animation|Children's|Comedy</td>\n",
       "    </tr>\n",
       "    <tr>\n",
       "      <th>...</th>\n",
       "      <td>...</td>\n",
       "      <td>...</td>\n",
       "      <td>...</td>\n",
       "      <td>...</td>\n",
       "      <td>...</td>\n",
       "      <td>...</td>\n",
       "      <td>...</td>\n",
       "      <td>...</td>\n",
       "      <td>...</td>\n",
       "      <td>...</td>\n",
       "    </tr>\n",
       "    <tr>\n",
       "      <th>43693</th>\n",
       "      <td>6011</td>\n",
       "      <td>1</td>\n",
       "      <td>5</td>\n",
       "      <td>956786106</td>\n",
       "      <td>M</td>\n",
       "      <td>35</td>\n",
       "      <td>15</td>\n",
       "      <td>80538</td>\n",
       "      <td>Toy Story (1995)</td>\n",
       "      <td>Animation|Children's|Comedy</td>\n",
       "    </tr>\n",
       "    <tr>\n",
       "      <th>43694</th>\n",
       "      <td>6013</td>\n",
       "      <td>1</td>\n",
       "      <td>5</td>\n",
       "      <td>959116383</td>\n",
       "      <td>F</td>\n",
       "      <td>25</td>\n",
       "      <td>20</td>\n",
       "      <td>32301</td>\n",
       "      <td>Toy Story (1995)</td>\n",
       "      <td>Animation|Children's|Comedy</td>\n",
       "    </tr>\n",
       "    <tr>\n",
       "      <th>43695</th>\n",
       "      <td>6015</td>\n",
       "      <td>1</td>\n",
       "      <td>5</td>\n",
       "      <td>956778765</td>\n",
       "      <td>F</td>\n",
       "      <td>25</td>\n",
       "      <td>9</td>\n",
       "      <td>80013</td>\n",
       "      <td>Toy Story (1995)</td>\n",
       "      <td>Animation|Children's|Comedy</td>\n",
       "    </tr>\n",
       "    <tr>\n",
       "      <th>43698</th>\n",
       "      <td>6022</td>\n",
       "      <td>1</td>\n",
       "      <td>5</td>\n",
       "      <td>956755763</td>\n",
       "      <td>M</td>\n",
       "      <td>25</td>\n",
       "      <td>17</td>\n",
       "      <td>57006</td>\n",
       "      <td>Toy Story (1995)</td>\n",
       "      <td>Animation|Children's|Comedy</td>\n",
       "    </tr>\n",
       "    <tr>\n",
       "      <th>43699</th>\n",
       "      <td>6025</td>\n",
       "      <td>1</td>\n",
       "      <td>5</td>\n",
       "      <td>956812867</td>\n",
       "      <td>F</td>\n",
       "      <td>25</td>\n",
       "      <td>1</td>\n",
       "      <td>32607</td>\n",
       "      <td>Toy Story (1995)</td>\n",
       "      <td>Animation|Children's|Comedy</td>\n",
       "    </tr>\n",
       "  </tbody>\n",
       "</table>\n",
       "<p>819 rows × 10 columns</p>\n",
       "</div>"
      ],
      "text/plain": [
       "       user_id  movie_id  rating  timestamp gender  age  occupation    zip  \\\n",
       "41629        9         1       5  978225952      M   25          17  61614   \n",
       "41630       10         1       5  978226474      F   35           1  95370   \n",
       "41632       19         1       5  978555994      M    1          10  48073   \n",
       "41637       34         1       5  978102970      F   18           0  02135   \n",
       "41638       36         1       5  978061285      M   25           3  94123   \n",
       "...        ...       ...     ...        ...    ...  ...         ...    ...   \n",
       "43693     6011         1       5  956786106      M   35          15  80538   \n",
       "43694     6013         1       5  959116383      F   25          20  32301   \n",
       "43695     6015         1       5  956778765      F   25           9  80013   \n",
       "43698     6022         1       5  956755763      M   25          17  57006   \n",
       "43699     6025         1       5  956812867      F   25           1  32607   \n",
       "\n",
       "                  title                       genres  \n",
       "41629  Toy Story (1995)  Animation|Children's|Comedy  \n",
       "41630  Toy Story (1995)  Animation|Children's|Comedy  \n",
       "41632  Toy Story (1995)  Animation|Children's|Comedy  \n",
       "41637  Toy Story (1995)  Animation|Children's|Comedy  \n",
       "41638  Toy Story (1995)  Animation|Children's|Comedy  \n",
       "...                 ...                          ...  \n",
       "43693  Toy Story (1995)  Animation|Children's|Comedy  \n",
       "43694  Toy Story (1995)  Animation|Children's|Comedy  \n",
       "43695  Toy Story (1995)  Animation|Children's|Comedy  \n",
       "43698  Toy Story (1995)  Animation|Children's|Comedy  \n",
       "43699  Toy Story (1995)  Animation|Children's|Comedy  \n",
       "\n",
       "[819 rows x 10 columns]"
      ]
     },
     "execution_count": 11,
     "metadata": {},
     "output_type": "execute_result"
    }
   ],
   "source": [
    "user_ids_with_same_score(1, 1)"
   ]
  },
  {
   "cell_type": "markdown",
   "metadata": {},
   "source": [
    "__Problem 6__"
   ]
  },
  {
   "cell_type": "markdown",
   "metadata": {},
   "source": [
    "[20 pts] Some other statistic, figure, aggregate, or plot that you created using this dataset, along with a short description of what interesting observations you derived from it."
   ]
  },
  {
   "cell_type": "markdown",
   "metadata": {},
   "source": [
    "We plan to analyze what genre gets the most movie ratings, which gender leaves more movie ratings, and the number of movie ratings distributed by age group. From the results, we can analyze what genre is the most popular one (with most people giving ratings) and how gender and age influence the likelihood of people giving movie ratings."
   ]
  },
  {
   "cell_type": "code",
   "execution_count": 12,
   "metadata": {},
   "outputs": [
    {
     "data": {
      "text/plain": [
       "genres\n",
       "Comedy                       116883\n",
       "Drama                        111423\n",
       "Comedy|Romance                42712\n",
       "Comedy|Drama                  42245\n",
       "Drama|Romance                 29170\n",
       "                              ...  \n",
       "Drama|Romance|Western            29\n",
       "Children's|Fantasy               27\n",
       "Comedy|Film-Noir|Thriller         5\n",
       "Film-Noir|Horror                  2\n",
       "Fantasy                           1\n",
       "Length: 301, dtype: int64"
      ]
     },
     "execution_count": 12,
     "metadata": {},
     "output_type": "execute_result"
    }
   ],
   "source": [
    "most_rated_by_genre = data.groupby('genres').size().sort_values(ascending=False)\n",
    "most_rated_by_genre"
   ]
  },
  {
   "cell_type": "code",
   "execution_count": 13,
   "metadata": {},
   "outputs": [
    {
     "data": {
      "text/plain": [
       "gender\n",
       "M    753769\n",
       "F    246440\n",
       "dtype: int64"
      ]
     },
     "execution_count": 13,
     "metadata": {},
     "output_type": "execute_result"
    }
   ],
   "source": [
    "most_rated_by_gender = data.groupby('gender').size().sort_values(ascending=False)\n",
    "most_rated_by_gender"
   ]
  },
  {
   "cell_type": "code",
   "execution_count": 14,
   "metadata": {},
   "outputs": [],
   "source": [
    "import matplotlib.pyplot as plt"
   ]
  },
  {
   "cell_type": "code",
   "execution_count": 15,
   "metadata": {},
   "outputs": [
    {
     "data": {
      "image/png": "[encoded data removed]",
      "text/plain": [
       "<Figure size 432x288 with 1 Axes>"
      ]
     },
     "metadata": {},
     "output_type": "display_data"
    }
   ],
   "source": [
    "labels = 'Male', 'Female'\n",
    "sizes = [753769, 246440]\n",
    "plt.pie(sizes, labels=labels, autopct='%1.1f%%')\n",
    "plt.axis('equal')\n",
    "plt.show()"
   ]
  },
  {
   "cell_type": "code",
   "execution_count": 16,
   "metadata": {},
   "outputs": [
    {
     "data": {
      "text/plain": [
       "age_group\n",
       "0-9       27211\n",
       "10-19    183536\n",
       "20-29    395556\n",
       "30-39    199003\n",
       "40-49     83633\n",
       "50-59    111270\n",
       "60-69         0\n",
       "dtype: int64"
      ]
     },
     "execution_count": 16,
     "metadata": {},
     "output_type": "execute_result"
    }
   ],
   "source": [
    "labels = ['0-9', '10-19', '20-29', '30-39', '40-49', '50-59', '60-69']\n",
    "data['age_group'] = pd.cut(data.age, range(0, 71, 10), right=False, labels=labels)\n",
    "most_rated_by_age = data.groupby('age_group').size()\n",
    "most_rated_by_age"
   ]
  },
  {
   "cell_type": "code",
   "execution_count": 17,
   "metadata": {},
   "outputs": [
    {
     "data": {
      "image/png": "[encoded data removed]",
      "text/plain": [
       "<Figure size 432x288 with 1 Axes>"
      ]
     },
     "metadata": {
      "needs_background": "light"
     },
     "output_type": "display_data"
    }
   ],
   "source": [
    "x = ('0-9', '10-19', '20-29', '30-39', '40-49', '50-59', '60-69')\n",
    "y = np.arange(len(x))\n",
    "performance = [27211, 183536, 395556, 199003, 83633, 111270, 0]\n",
    "\n",
    "plt.bar(y, performance, align='center', alpha=0.5)\n",
    "plt.xticks(y, x)\n",
    "plt.xlabel('Age group')\n",
    "plt.ylabel('Number of movie ratings')\n",
    "plt.show()"
   ]
  },
  {
   "cell_type": "markdown",
   "metadata": {},
   "source": [
    "From the results above, we observed that comedy and drama are the two most popular genres. Each has over 2.5 times more ratings than any other genre. We think the number of movie ratings received is a good indicator of movie popularity. In addition, males are more likely to leave movie ratings than females. From the data, over 75% of movie ratings are left by male users. Furthermore, the age group 20-29 contributes to the largest number of movie ratings, followed by age group 30-39 and 10-19. We observed that young people, especially people in their 20s are more likely to write movie ratings. The potential reason could be young people watch movies more frequently than people in other age groups, and young people use the internet more frequently and like to share their opinions on the Internet."
   ]
  }
 ],
 "metadata": {
  "kernelspec": {
   "display_name": "Python 3",
   "language": "python",
   "name": "python3"
  },
  "language_info": {
   "codemirror_mode": {
    "name": "ipython",
    "version": 3
   },
   "file_extension": ".py",
   "mimetype": "text/x-python",
   "name": "python",
   "nbconvert_exporter": "python",
   "pygments_lexer": "ipython3",
   "version": "3.7.6"
  }
 },
 "nbformat": 4,
 "nbformat_minor": 2
}
